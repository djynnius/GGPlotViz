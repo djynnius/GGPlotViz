{
 "cells": [
  {
   "cell_type": "markdown",
   "id": "a9c80565-9512-4d62-aac9-b218a348cdd8",
   "metadata": {},
   "source": [
    "# Appendix 5: Double Axis Plots"
   ]
  },
  {
   "cell_type": "code",
   "execution_count": null,
   "id": "5ba1fd7f-41be-4758-a10b-46489901350b",
   "metadata": {},
   "outputs": [],
   "source": []
  }
 ],
 "metadata": {
  "kernelspec": {
   "display_name": "R",
   "language": "R",
   "name": "ir"
  },
  "language_info": {
   "codemirror_mode": "r",
   "file_extension": ".r",
   "mimetype": "text/x-r-source",
   "name": "R",
   "pygments_lexer": "r",
   "version": "4.3.1"
  }
 },
 "nbformat": 4,
 "nbformat_minor": 5
}
